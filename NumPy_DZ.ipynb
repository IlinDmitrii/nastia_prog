{
  "cells": [
    {
      "cell_type": "markdown",
      "metadata": {
        "id": "DLi077NiteBO"
      },
      "source": [
        "## Домашнее задание 4\n",
        "###  NumPy"
      ]
    },
    {
      "cell_type": "markdown",
      "metadata": {
        "id": "euGVMjLIteBU"
      },
      "source": [
        "Дан массив, содержащий баллы слушателей курса по английскому языку за вступительный экзамен. Слушатели распределены по 15 группам по 10 человек."
      ]
    },
    {
      "cell_type": "code",
      "execution_count": 104,
      "metadata": {
        "id": "6z8KfbswteBV"
      },
      "outputs": [],
      "source": [
        "import numpy as np\n",
        "scores = np.array([[20, 40, 56, 80, 0, 5, 25, 27, 74, 1],\n",
        "         [0, 98, 67, 100, 8, 56, 34, 82, 100, 7],\n",
        "         [78, 54, 23, 79, 100, 0, 0, 42, 95, 83],\n",
        "         [51, 50, 47, 23, 100, 94, 25, 48, 38, 77],\n",
        "         [90, 87, 41, 89, 52, 0, 5, 17, 28, 99],\n",
        "         [32, 18, 21, 18, 29, 31, 48, 62, 76, 22],\n",
        "         [6, 0, 65, 78, 43, 22, 38, 88, 94, 100],\n",
        "         [77, 28, 39, 41, 0, 81, 45, 54, 98, 12],\n",
        "         [66, 0, 88, 0, 44, 0, 55, 100, 12, 11],\n",
        "         [17, 70, 86, 96, 56, 23, 32, 49, 70, 80],\n",
        "         [20, 24, 76, 50, 29, 40, 3, 2, 5, 11],\n",
        "         [33, 63, 28, 40, 51, 100, 98, 87, 22, 30],\n",
        "         [16, 54, 78, 12, 25, 35, 10, 19, 67, 0],\n",
        "         [100, 88, 24, 33, 47, 56, 62, 34, 77, 53],\n",
        "         [50, 89, 70, 72, 56, 29, 15, 20, 0, 0]])"
      ]
    },
    {
      "cell_type": "markdown",
      "metadata": {
        "id": "BZ6qKePWteBW"
      },
      "source": [
        "### Задание 1\n",
        "\n",
        "Посчитать, сколько слушателей получили 0 за вступительный экзамен."
      ]
    },
    {
      "cell_type": "code",
      "execution_count": 105,
      "metadata": {
        "colab": {
          "base_uri": "https://localhost:8080/"
        },
        "id": "0veN5wFAteBX",
        "outputId": "df91400f-c51a-4da4-b0f5-f34612b441f4"
      },
      "outputs": [
        {
          "output_type": "stream",
          "name": "stdout",
          "text": [
            "13\n",
            "13\n"
          ]
        }
      ],
      "source": [
        "print(scores.size - len(scores.nonzero()[1]))\n",
        "print(np.sum(scores==0))"
      ]
    },
    {
      "cell_type": "markdown",
      "metadata": {
        "id": "NxKOEhr-teBX"
      },
      "source": [
        "### Задание 2\n",
        "\n",
        "Посчитать, сколько слушателей получили балл выше 50."
      ]
    },
    {
      "cell_type": "code",
      "execution_count": 106,
      "metadata": {
        "colab": {
          "base_uri": "https://localhost:8080/"
        },
        "id": "TCnSMZq-teBX",
        "outputId": "3337a6e3-1236-4f10-e93f-c4d0dc76c73e"
      },
      "outputs": [
        {
          "output_type": "stream",
          "name": "stdout",
          "text": [
            "64\n",
            "64\n"
          ]
        }
      ],
      "source": [
        "print(np.sum(scores>50))\n",
        "print(np.count_nonzero(scores>50))\n"
      ]
    },
    {
      "cell_type": "markdown",
      "metadata": {
        "id": "u09ieGLkteBY"
      },
      "source": [
        "### Задание 3\n",
        "\n",
        "Посчитать, сколько человек получили балл не ниже 50, но не выше 70."
      ]
    },
    {
      "cell_type": "code",
      "execution_count": 107,
      "metadata": {
        "colab": {
          "base_uri": "https://localhost:8080/"
        },
        "id": "ziWcTv3GteBY",
        "outputId": "a27f7135-9676-450e-ea49-ecb06f16979a"
      },
      "outputs": [
        {
          "output_type": "stream",
          "name": "stdout",
          "text": [
            "26\n"
          ]
        }
      ],
      "source": [
        "print(np.sum((scores>=50)&(scores<=70)))"
      ]
    },
    {
      "cell_type": "markdown",
      "metadata": {
        "id": "599o1LacteBY"
      },
      "source": [
        "### Задание 4\n",
        "\n",
        "Определить, в какой группе средний балл за вступительный экзамен выше."
      ]
    },
    {
      "cell_type": "code",
      "execution_count": 108,
      "metadata": {
        "colab": {
          "base_uri": "https://localhost:8080/"
        },
        "id": "8Wfg3EBtteBZ",
        "outputId": "b579450f-5506-4469-b6d3-e17defaeeb48"
      },
      "outputs": [
        {
          "output_type": "execute_result",
          "data": {
            "text/plain": [
              "9"
            ]
          },
          "metadata": {},
          "execution_count": 108
        }
      ],
      "source": [
        "np.mean(scores,axis=1).argmax()"
      ]
    },
    {
      "cell_type": "markdown",
      "metadata": {
        "id": "2MrjHdFcteBZ"
      },
      "source": [
        "### Задание 5\n",
        "\n",
        "Сохранить баллы слушателей выше 0 в массив `nonzero`."
      ]
    },
    {
      "cell_type": "code",
      "execution_count": 109,
      "metadata": {
        "id": "jRzrYHKTteBZ"
      },
      "outputs": [],
      "source": [
        "nonzero=scores[scores>0].flatten()\n",
        "nonzero=scores[scores>0].ravel()"
      ]
    },
    {
      "cell_type": "markdown",
      "metadata": {
        "id": "Pv3fDgY_teBZ"
      },
      "source": [
        "### Задание 6\n",
        "\n",
        "Используя массив `nonzero`, определить минимальный балл за вступительный балл среди всех групп."
      ]
    },
    {
      "cell_type": "code",
      "execution_count": 110,
      "metadata": {
        "colab": {
          "base_uri": "https://localhost:8080/"
        },
        "id": "D-3q6lxmteBZ",
        "outputId": "157218fa-02f8-4092-89cc-6fbe85c56d47"
      },
      "outputs": [
        {
          "output_type": "execute_result",
          "data": {
            "text/plain": [
              "1"
            ]
          },
          "metadata": {},
          "execution_count": 110
        }
      ],
      "source": [
        "nonzero.min()"
      ]
    },
    {
      "cell_type": "markdown",
      "metadata": {
        "id": "zDZBzUjIteBa"
      },
      "source": [
        "### Задание 7\n",
        "\n",
        "Выбрать из массива `nonzero` только те значения, которые соответствуют продвинутому уровню знания языка – баллу за экзамен выше 80. Сохранить полученный результат в массив `advanced`."
      ]
    },
    {
      "cell_type": "code",
      "execution_count": 111,
      "metadata": {
        "id": "4rfgXclUteBa"
      },
      "outputs": [],
      "source": [
        "advanced=nonzero[nonzero>80]"
      ]
    },
    {
      "cell_type": "markdown",
      "metadata": {
        "id": "4amQtraAteBa"
      },
      "source": [
        "### Задание 8\n",
        "\n",
        "Получить из исходного массива `scores` массив медианных оценок по группам."
      ]
    },
    {
      "cell_type": "code",
      "execution_count": 112,
      "metadata": {
        "colab": {
          "base_uri": "https://localhost:8080/"
        },
        "id": "1ZRy-8yCteBa",
        "outputId": "4ca2f207-f062-41e6-db94-aef423596e98"
      },
      "outputs": [
        {
          "output_type": "execute_result",
          "data": {
            "text/plain": [
              "array([26. , 61.5, 66. , 49. , 46.5, 30. , 54. , 43. , 28. , 63. , 22. ,\n",
              "       45.5, 22. , 54.5, 39.5])"
            ]
          },
          "metadata": {},
          "execution_count": 112
        }
      ],
      "source": [
        "np.median(scores,axis=1)"
      ]
    },
    {
      "cell_type": "markdown",
      "metadata": {
        "id": "ezLqPusRteBa"
      },
      "source": [
        "### Задание 9\n",
        "\n",
        "Перераспределить студентов из `scores` в 10 групп по 15 человек с помощью метода `reshape`. Посчитать среднюю оценку в группе на обновленных данных."
      ]
    },
    {
      "cell_type": "code",
      "execution_count": 113,
      "metadata": {
        "colab": {
          "base_uri": "https://localhost:8080/"
        },
        "id": "1SLgdM_AteBa",
        "outputId": "9f65b6ef-082c-42f3-bef2-1b5d1ff3549d"
      },
      "outputs": [
        {
          "output_type": "execute_result",
          "data": {
            "text/plain": [
              "array([40.06666667, 55.53333333, 60.8       , 33.73333333, 47.93333333,\n",
              "       44.4       , 51.86666667, 40.86666667, 40.53333333, 45.53333333])"
            ]
          },
          "metadata": {},
          "execution_count": 113
        }
      ],
      "source": [
        "(scores.reshape(10,15)).mean(axis=1)"
      ]
    },
    {
      "cell_type": "markdown",
      "metadata": {
        "id": "t270nm6-teBa"
      },
      "source": [
        "### Задание 10\n",
        "\n",
        "Определить общее число элементов в массиве `advanced`."
      ]
    },
    {
      "cell_type": "code",
      "execution_count": 114,
      "metadata": {
        "colab": {
          "base_uri": "https://localhost:8080/"
        },
        "id": "dkTSwPmBteBb",
        "outputId": "6f6ff24a-de79-4ded-fd88-2309c8e1f516"
      },
      "outputs": [
        {
          "output_type": "execute_result",
          "data": {
            "text/plain": [
              "28"
            ]
          },
          "metadata": {},
          "execution_count": 114
        }
      ],
      "source": [
        "advanced.size"
      ]
    },
    {
      "cell_type": "markdown",
      "metadata": {
        "id": "yYqkxx4lteBb"
      },
      "source": [
        "### Задание 11\n",
        "\n",
        "На основе исходного массива `scores` создать булев массив `sto`, где `True` соответствует баллам за экзамен, равным 100, а `False` – всем остальным баллам."
      ]
    },
    {
      "cell_type": "code",
      "execution_count": 115,
      "metadata": {
        "id": "xBl8wRKiteBb"
      },
      "outputs": [],
      "source": [
        "#мы там его поменяли, надо обратно вернуть\n",
        "scores.reshape(15,10)\n",
        "sto=(scores==100)"
      ]
    },
    {
      "cell_type": "markdown",
      "metadata": {
        "id": "4NiCOqDhteBb"
      },
      "source": [
        "### Задание 12\n",
        "\n",
        "На основе исходного массива `scores` вывести на экран оценки слушателей первых семи групп (включительно, должны быть 7 списков оценок)."
      ]
    },
    {
      "cell_type": "code",
      "execution_count": 116,
      "metadata": {
        "colab": {
          "base_uri": "https://localhost:8080/"
        },
        "id": "1iGWk74kteBb",
        "outputId": "2bed32ba-da95-4970-e137-20c3e8331e9b"
      },
      "outputs": [
        {
          "output_type": "stream",
          "name": "stdout",
          "text": [
            "[[ 20  40  56  80   0   5  25  27  74   1]\n",
            " [  0  98  67 100   8  56  34  82 100   7]\n",
            " [ 78  54  23  79 100   0   0  42  95  83]\n",
            " [ 51  50  47  23 100  94  25  48  38  77]\n",
            " [ 90  87  41  89  52   0   5  17  28  99]\n",
            " [ 32  18  21  18  29  31  48  62  76  22]\n",
            " [  6   0  65  78  43  22  38  88  94 100]]\n"
          ]
        }
      ],
      "source": [
        "print(scores[0:7,])"
      ]
    }
  ],
  "metadata": {
    "kernelspec": {
      "display_name": "Python 3 (ipykernel)",
      "language": "python",
      "name": "python3"
    },
    "language_info": {
      "codemirror_mode": {
        "name": "ipython",
        "version": 3
      },
      "file_extension": ".py",
      "mimetype": "text/x-python",
      "name": "python",
      "nbconvert_exporter": "python",
      "pygments_lexer": "ipython3",
      "version": "3.9.7"
    },
    "colab": {
      "provenance": []
    }
  },
  "nbformat": 4,
  "nbformat_minor": 0
}